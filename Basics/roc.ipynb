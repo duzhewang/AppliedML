{
 "cells": [
  {
   "cell_type": "markdown",
   "metadata": {},
   "source": [
    "# ROC curve and AUC"
   ]
  },
  {
   "cell_type": "markdown",
   "metadata": {},
   "source": [
    "## 1. Goal\n",
    "\n",
    "The goal of this exercise is to plot the roc curve and compute AUC. \n"
   ]
  },
  {
   "cell_type": "markdown",
   "metadata": {},
   "source": [
    "## 2. Basic concepts \n",
    "\n",
    "- The x-axis of ROC is false positive rate, which is defined as \n",
    "\n",
    "$$\\text{FPR}=\\frac{\\text{false positive}}{\\text{negative}}$$\n",
    "\n",
    "- The y-axis of ROC is true positive rate, which is defined as \n",
    "\n",
    "$$\\text{TPR}=\\frac{\\text{true positive}}{\\text{positive}}$$\n",
    "\n",
    "- AUC: area under the ROC curve\n"
   ]
  },
  {
   "cell_type": "markdown",
   "metadata": {},
   "source": [
    "## 3. Code\n",
    "\n",
    "Setup: there are two classes: class 0 (positive) and class 1 (negative)\n",
    "\n",
    "First, we import the required package:"
   ]
  },
  {
   "cell_type": "code",
   "execution_count": 265,
   "metadata": {},
   "outputs": [],
   "source": [
    "import numpy as np\n",
    "import matplotlib.pyplot as plt\n",
    "\n",
    "%matplotlib inline\n",
    "plt.style.use('seaborn-whitegrid')\n",
    "\n"
   ]
  },
  {
   "cell_type": "markdown",
   "metadata": {},
   "source": [
    "Next, we define the following ROC function: "
   ]
  },
  {
   "cell_type": "code",
   "execution_count": 266,
   "metadata": {},
   "outputs": [],
   "source": [
    "def roc(groundtruth, predprob, theta):\n",
    "    groundtruth_negative=np.where(groundtruth==1)[0]  # index of negative class\n",
    "    groundtruth_positive=np.where(groundtruth==0)[0]  # index of positive class\n",
    "    \n",
    "    # predict\n",
    "    predclass=np.tile(predprob, (len(theta), 1))>theta.reshape((-1,1))\n",
    "    predclass=predclass.astype(int)   # convert true to 1 and false to 0\n",
    "    \n",
    "    predclass_positive=np.asarray(np.where(predclass==0)).T\n",
    "    predclass_negative=np.asarray(np.where(predclass==1)).T\n",
    "    \n",
    "    \n",
    "    # for loop: how can we avoid this for loop? \n",
    "    rate=np.zeros(len(theta)*3).reshape((len(theta), 3))  # first col: theta; second col: fpr; third col: tpr\n",
    "    for i in np.arange(len(theta)):\n",
    "        predclass_positive=np.where(predclass[i,]==0)[0]\n",
    "        predclass_negative=np.where(predclass[i,]==1)[0]\n",
    "        \n",
    "        # threshold\n",
    "        rate[i,0]=theta[i]\n",
    "        # false positive rate\n",
    "        rate[i,1]=len(np.intersect1d(predclass_positive, groundtruth_negative))/len(groundtruth_negative)\n",
    "        # true positive rate\n",
    "        rate[i,2]=len(np.intersect1d(predclass_positive, groundtruth_positive))/len(groundtruth_positive)\n",
    "        \n",
    "    # compute AUC  \n",
    "    sortedfpr=np.sort(rate[:,1])\n",
    "    sortedtpr=np.sort(rate[:,2])\n",
    "    auc=np.dot(sortedfpr[1:(len(theta)-1)]-sortedfpr[0:(len(theta)-2)], sortedtpr[1:(len(theta)-1)])\n",
    "    \n",
    "    return rate, auc\n",
    "\n",
    "    \n",
    "    "
   ]
  },
  {
   "cell_type": "markdown",
   "metadata": {},
   "source": [
    "## 4. Examples"
   ]
  },
  {
   "cell_type": "code",
   "execution_count": 308,
   "metadata": {},
   "outputs": [],
   "source": [
    "groundtruth=np.random.choice(np.array([0,1]), 10000)\n",
    "zr_ind=np.where(groundtruth==0)[0]\n",
    "predprob=np.random.beta(a=8, b=10, size=10000)\n",
    "predprob[zr_ind]=np.random.beta(a=3,b=10,size=len(zr_ind))\n",
    "theta=np.arange(0.05, 0.95, 0.01)"
   ]
  },
  {
   "cell_type": "code",
   "execution_count": 309,
   "metadata": {
    "scrolled": false
   },
   "outputs": [
    {
     "name": "stdout",
     "output_type": "stream",
     "text": [
      "0.9085541230643248\n"
     ]
    }
   ],
   "source": [
    "rate, auc=roc(groundtruth, predprob, theta)\n",
    "#print(rate)\n",
    "print(auc)"
   ]
  },
  {
   "cell_type": "markdown",
   "metadata": {},
   "source": [
    "Next, we plot the roc curve in the following:"
   ]
  },
  {
   "cell_type": "code",
   "execution_count": 307,
   "metadata": {
    "scrolled": false
   },
   "outputs": [
    {
     "data": {
      "image/png": "[encoded data removed]",
      "text/plain": [
       "<Figure size 432x288 with 1 Axes>"
      ]
     },
     "metadata": {},
     "output_type": "display_data"
    }
   ],
   "source": [
    "plt.scatter(rate[:,1], rate[:,2],marker='o');"
   ]
  }
 ],
 "metadata": {
  "kernelspec": {
   "display_name": "Python 3",
   "language": "python",
   "name": "python3"
  },
  "language_info": {
   "codemirror_mode": {
    "name": "ipython",
    "version": 3
   },
   "file_extension": ".py",
   "mimetype": "text/x-python",
   "name": "python",
   "nbconvert_exporter": "python",
   "pygments_lexer": "ipython3",
   "version": "3.8.1"
  }
 },
 "nbformat": 4,
 "nbformat_minor": 4
}
