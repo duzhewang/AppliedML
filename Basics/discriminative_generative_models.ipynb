{
 "cells": [
  {
   "cell_type": "markdown",
   "metadata": {},
   "source": [
    "# Discriminative model and generative model \n",
    "\n",
    "**Last updated date: 5/16/2020**\n",
    "\n",
    "In statistical classification, including machine learning, two main approaches are called the generative approach and the discriminative approach. \n",
    "\n",
    "\n"
   ]
  },
  {
   "cell_type": "markdown",
   "metadata": {},
   "source": [
    "## Discriminative model\n",
    "\n",
    "- Definition: a discriminative model is a model of the conditional probability of the target $Y$, given an observation $x$, $P(Y|X=x)$\n",
    "\n",
    "- Examples: logistic regression\n",
    "\n",
    "\n"
   ]
  },
  {
   "cell_type": "markdown",
   "metadata": {},
   "source": [
    "## Generative model\n",
    "\n",
    "\n",
    "- Definition: Given an observable variable $X$ and a target variable $Y$, a generative model is a statistical model of the joint probability distribution on $X × Y$, $P(X,Y)$. \n",
    "\n",
    "- Examples: linear discriminant analysis \n",
    "\n",
    "\n",
    "\n",
    "\n"
   ]
  }
 ],
 "metadata": {
  "kernelspec": {
   "display_name": "Python 3",
   "language": "python",
   "name": "python3"
  },
  "language_info": {
   "codemirror_mode": {
    "name": "ipython",
    "version": 3
   },
   "file_extension": ".py",
   "mimetype": "text/x-python",
   "name": "python",
   "nbconvert_exporter": "python",
   "pygments_lexer": "ipython3",
   "version": "3.8.1"
  }
 },
 "nbformat": 4,
 "nbformat_minor": 4
}
